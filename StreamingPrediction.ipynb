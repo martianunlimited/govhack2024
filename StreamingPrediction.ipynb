{
 "cells": [
  {
   "cell_type": "code",
   "execution_count": 1,
   "id": "c5a301d9-7049-47a2-a2bb-d9a1af360f85",
   "metadata": {},
   "outputs": [],
   "source": [
    "import capymoa\n",
    "from capymoa.stream import stream_from_file\n",
    "from capymoa.regressor import SOKNL\n",
    "from capymoa.evaluation import prequential_evaluation\n",
    "from capymoa.evaluation.visualization import plot_regression_results"
   ]
  },
  {
   "cell_type": "code",
   "execution_count": null,
   "id": "5e2dbf66-dee7-4796-852d-1aa24d61f2f2",
   "metadata": {},
   "outputs": [],
   "source": [
    "sole_price = stream_from_file('merged_data_sole_price.arff')\n",
    "soknl = SOKNL(schema=sole_price.get_schema())\n",
    "price_results = prequential_evaluation(stream=sole_price, learner=soknl, window_size=1000, optimise=False,store_predictions=True, store_y=True)\n"
   ]
  },
  {
   "cell_type": "code",
   "execution_count": null,
   "id": "91e3097a-6939-474b-baf4-f86fbb19b290",
   "metadata": {},
   "outputs": [],
   "source": [
    "plot_regression_results(price_results, ground_truth=price_results['ground_truth_y'], start=10380, end=10530,predictions_type='dots', color_predictions='r',plot_residuals=False, save_only=True, figure_name='final')\n"
   ]
  },
  {
   "cell_type": "code",
   "execution_count": null,
   "id": "fdd3e763-80ae-41a1-bf83-726f69da2cc3",
   "metadata": {},
   "outputs": [],
   "source": []
  }
 ],
 "metadata": {
  "kernelspec": {
   "display_name": "Python 3 (ipykernel)",
   "language": "python",
   "name": "python3"
  },
  "language_info": {
   "codemirror_mode": {
    "name": "ipython",
    "version": 3
   },
   "file_extension": ".py",
   "mimetype": "text/x-python",
   "name": "python",
   "nbconvert_exporter": "python",
   "pygments_lexer": "ipython3",
   "version": "3.12.3"
  }
 },
 "nbformat": 4,
 "nbformat_minor": 5
}
