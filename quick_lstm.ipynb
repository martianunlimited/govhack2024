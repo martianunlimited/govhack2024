{
 "cells": [
  {
   "cell_type": "code",
   "execution_count": 1,
   "id": "b7d51f32-e85e-4ede-848c-cd5cf615b7a3",
   "metadata": {},
   "outputs": [],
   "source": [
    "import pandas as pd"
   ]
  },
  {
   "cell_type": "code",
   "execution_count": 2,
   "id": "a8aefc1a-b555-4521-8da7-4f1318c972c8",
   "metadata": {},
   "outputs": [],
   "source": [
    "price_df=pd.read_csv('Wholesale_price_trends_20240907204403.csv')"
   ]
  },
  {
   "cell_type": "code",
   "execution_count": 3,
   "id": "0194b123-025c-411e-987a-d923392d2057",
   "metadata": {},
   "outputs": [
    {
     "name": "stdout",
     "output_type": "stream",
     "text": [
      "<class 'pandas.core.frame.DataFrame'>\n",
      "RangeIndex: 175282 entries, 0 to 175281\n",
      "Data columns (total 5 columns):\n",
      " #   Column         Non-Null Count   Dtype  \n",
      "---  ------         --------------   -----  \n",
      " 0   Period start   175282 non-null  object \n",
      " 1   Period end     175282 non-null  object \n",
      " 2   Region ID      175282 non-null  object \n",
      " 3   Region         175282 non-null  object \n",
      " 4   Price ($/MWh)  175282 non-null  float64\n",
      "dtypes: float64(1), object(4)\n",
      "memory usage: 6.7+ MB\n"
     ]
    }
   ],
   "source": [
    "price_df.info()"
   ]
  },
  {
   "cell_type": "code",
   "execution_count": 4,
   "id": "266d8e07-3e2a-42f2-a2f9-b4497dd3d8ca",
   "metadata": {},
   "outputs": [
    {
     "name": "stderr",
     "output_type": "stream",
     "text": [
      "/home/nlim/miniconda3/envs/govhack/lib/python3.12/site-packages/pandas/core/indexes/base.py:7588: FutureWarning: Dtype inference on a pandas object (Series, Index, ExtensionArray) is deprecated. The Index constructor will keep the original dtype in the future. Call `infer_objects` on the result to get the old behavior.\n",
      "  return Index(sequences[0], name=names)\n"
     ]
    }
   ],
   "source": [
    "price_df.loc[:,'Period start']=pd.to_datetime(price_df.loc[:,'Period start'],format=\"%d/%m/%Y %H:%M:%S\")\n",
    "price_df=price_df.set_index('Period start')"
   ]
  },
  {
   "cell_type": "code",
   "execution_count": 5,
   "id": "be5cdb3c-07f8-4c26-9525-98678fc6ad2b",
   "metadata": {},
   "outputs": [
    {
     "name": "stderr",
     "output_type": "stream",
     "text": [
      "/home/nlim/miniconda3/envs/govhack/lib/python3.12/site-packages/pandas/core/indexes/base.py:7588: FutureWarning: Dtype inference on a pandas object (Series, Index, ExtensionArray) is deprecated. The Index constructor will keep the original dtype in the future. Call `infer_objects` on the result to get the old behavior.\n",
      "  return Index(sequences[0], name=names)\n"
     ]
    }
   ],
   "source": [
    "demand_df=pd.read_csv('Demand_trends_20240907130430.csv')\n",
    "demand_df.loc[:,'Period start']=pd.to_datetime(demand_df.loc[:,'Period start'],format=\"%d/%m/%Y %H:%M:%S\")\n",
    "demand_df=demand_df.set_index('Period start')"
   ]
  },
  {
   "cell_type": "code",
   "execution_count": 6,
   "id": "87b6b702-dcef-42ae-bf2e-416b1d65c7f5",
   "metadata": {},
   "outputs": [
    {
     "name": "stderr",
     "output_type": "stream",
     "text": [
      "/home/nlim/miniconda3/envs/govhack/lib/python3.12/site-packages/pandas/core/indexes/base.py:7588: FutureWarning: Dtype inference on a pandas object (Series, Index, ExtensionArray) is deprecated. The Index constructor will keep the original dtype in the future. Call `infer_objects` on the result to get the old behavior.\n",
      "  return Index(sequences[0], name=names)\n"
     ]
    }
   ],
   "source": [
    "generation_df=pd.read_csv('Generation_trends_20240907170859.csv')\n",
    "generation_df.loc[:,'Period start']=pd.to_datetime(generation_df.loc[:,'Period start'],format=\"%d/%m/%Y %H:%M:%S\")\n",
    "generation_df=generation_df.set_index('Period start')"
   ]
  },
  {
   "cell_type": "code",
   "execution_count": 7,
   "id": "9729f3db-96b5-4415-9ad1-193d87723ef1",
   "metadata": {},
   "outputs": [],
   "source": [
    "weather_df = pd.read_csv('howick-weather-daily-extremes.csv')\n",
    "weather_df.Date=pd.to_datetime(weather_df.Date)"
   ]
  },
  {
   "cell_type": "code",
   "execution_count": 8,
   "id": "2c6086ee-2635-489b-b777-48dffb64d3f7",
   "metadata": {},
   "outputs": [],
   "source": [
    "weather_df=weather_df.iloc[:,[0,1,3,5,6,8,10,12,14,16,19,20,21,23,25,27]]"
   ]
  },
  {
   "cell_type": "code",
   "execution_count": 9,
   "id": "e0f5cd7f-bf86-48aa-912f-f68107057b4d",
   "metadata": {},
   "outputs": [],
   "source": [
    "weather_df=weather_df.set_index('Date')"
   ]
  },
  {
   "cell_type": "code",
   "execution_count": 10,
   "id": "817b1cc7-8a81-4a9a-9d8a-98d4646a5778",
   "metadata": {},
   "outputs": [
    {
     "name": "stderr",
     "output_type": "stream",
     "text": [
      "/tmp/ipykernel_25982/3799000217.py:1: FutureWarning: 'T' is deprecated and will be removed in a future version, please use 'min' instead.\n",
      "  weather_df=weather_df.resample('30T').ffill()\n"
     ]
    }
   ],
   "source": [
    "weather_df=weather_df.resample('30T').ffill()"
   ]
  },
  {
   "cell_type": "code",
   "execution_count": 11,
   "id": "a9ccac82-f529-40bd-bae8-85982c9a7364",
   "metadata": {},
   "outputs": [],
   "source": [
    "merged_df=weather_df.join(generation_df).dropna().join(demand_df,rsuffix='_2').join(price_df,rsuffix='_3')"
   ]
  },
  {
   "cell_type": "code",
   "execution_count": 12,
   "id": "9ea9b43a-4b8e-448e-8cc3-a3a96b42bd84",
   "metadata": {},
   "outputs": [],
   "source": [
    "merged_df=merged_df.iloc[:,[0,1,2,3,4,5,6,7,8,9,10,11,12,13,14,18,19,23,24,28]]"
   ]
  },
  {
   "cell_type": "code",
   "execution_count": 13,
   "id": "0d6b09ae-f31f-4d3b-81ea-12a12875c154",
   "metadata": {},
   "outputs": [],
   "source": [
    "merged_df['day_of_year']=merged_df.index.dayofyear\n",
    "merged_df['hour']=merged_df.index.hour\n",
    "merged_df['minute']=merged_df.index.minute\n",
    "merged_df['day_of_week']=merged_df.index.dayofweek\n"
   ]
  },
  {
   "cell_type": "code",
   "execution_count": 14,
   "id": "3c90eb2b-6905-4744-8e34-1f0d2c3cb168",
   "metadata": {},
   "outputs": [
    {
     "name": "stdout",
     "output_type": "stream",
     "text": [
      "<class 'pandas.core.frame.DataFrame'>\n",
      "DatetimeIndex: 175276 entries, 2014-01-01 00:00:00 to 2023-12-31 23:30:00\n",
      "Data columns (total 24 columns):\n",
      " #   Column            Non-Null Count   Dtype  \n",
      "---  ------            --------------   -----  \n",
      " 0   HighTemperature   175276 non-null  float64\n",
      " 1   LowTemperature    175276 non-null  float64\n",
      " 2   AvgTemperature    175276 non-null  float64\n",
      " 3   HighDewpoint      175276 non-null  float64\n",
      " 4   LowDewpoint       175276 non-null  float64\n",
      " 5   HighHumidity      175276 non-null  int64  \n",
      " 6   LowHumidity       175276 non-null  int64  \n",
      " 7   HighWindSpeed     175276 non-null  float64\n",
      " 8   HighWindGust      175276 non-null  float64\n",
      " 9   WindRun           175276 non-null  float64\n",
      " 10  Rainfall          175276 non-null  float64\n",
      " 11  HighRainRate      175276 non-null  float64\n",
      " 12  HighHourlyRain    175276 non-null  float64\n",
      " 13  HighPressure      175276 non-null  float64\n",
      " 14  LowPressure       175276 non-null  float64\n",
      " 15  Generation (GWh)  175276 non-null  float64\n",
      " 16  Generation ($)    175276 non-null  float64\n",
      " 17  Demand (GWh)      175276 non-null  float64\n",
      " 18  Demand ($)        175276 non-null  float64\n",
      " 19  Price ($/MWh)     175276 non-null  float64\n",
      " 20  day_of_year       175276 non-null  int32  \n",
      " 21  hour              175276 non-null  int32  \n",
      " 22  minute            175276 non-null  int32  \n",
      " 23  day_of_week       175276 non-null  int32  \n",
      "dtypes: float64(18), int32(4), int64(2)\n",
      "memory usage: 30.8 MB\n"
     ]
    }
   ],
   "source": [
    "merged_df.info()"
   ]
  },
  {
   "cell_type": "code",
   "execution_count": 15,
   "id": "3c9c81a3-f896-4ede-871a-5526032984df",
   "metadata": {},
   "outputs": [
    {
     "name": "stderr",
     "output_type": "stream",
     "text": [
      "2024-09-08 06:55:46.326715: I tensorflow/core/util/port.cc:153] oneDNN custom operations are on. You may see slightly different numerical results due to floating-point round-off errors from different computation orders. To turn them off, set the environment variable `TF_ENABLE_ONEDNN_OPTS=0`.\n",
      "2024-09-08 06:55:46.337167: E external/local_xla/xla/stream_executor/cuda/cuda_fft.cc:485] Unable to register cuFFT factory: Attempting to register factory for plugin cuFFT when one has already been registered\n",
      "2024-09-08 06:55:46.346951: E external/local_xla/xla/stream_executor/cuda/cuda_dnn.cc:8454] Unable to register cuDNN factory: Attempting to register factory for plugin cuDNN when one has already been registered\n",
      "2024-09-08 06:55:46.350204: E external/local_xla/xla/stream_executor/cuda/cuda_blas.cc:1452] Unable to register cuBLAS factory: Attempting to register factory for plugin cuBLAS when one has already been registered\n",
      "2024-09-08 06:55:46.359820: I tensorflow/core/platform/cpu_feature_guard.cc:210] This TensorFlow binary is optimized to use available CPU instructions in performance-critical operations.\n",
      "To enable the following instructions: AVX2 AVX_VNNI FMA, in other operations, rebuild TensorFlow with the appropriate compiler flags.\n",
      "2024-09-08 06:55:46.807689: W tensorflow/compiler/tf2tensorrt/utils/py_utils.cc:38] TF-TRT Warning: Could not find TensorRT\n"
     ]
    }
   ],
   "source": [
    "import tensorflow as tf\n",
    "import tensorflow.keras as keras"
   ]
  },
  {
   "cell_type": "code",
   "execution_count": 16,
   "id": "3a87e154-0c0a-4d03-ba51-991da25deccb",
   "metadata": {},
   "outputs": [],
   "source": [
    "import matplotlib.pyplot as plt"
   ]
  },
  {
   "cell_type": "code",
   "execution_count": 17,
   "id": "ba3d0827-8edf-4573-85ea-b73d1f946b12",
   "metadata": {},
   "outputs": [],
   "source": [
    "import numpy as np"
   ]
  },
  {
   "cell_type": "code",
   "execution_count": 18,
   "id": "7874a147-2dcb-412b-a239-fd28d651206c",
   "metadata": {},
   "outputs": [],
   "source": [
    "from tensorflow.keras.preprocessing.sequence import TimeseriesGenerator\n"
   ]
  },
  {
   "cell_type": "code",
   "execution_count": null,
   "id": "0a18c4c3-4f94-4fe3-b2bd-07e161b8d153",
   "metadata": {},
   "outputs": [],
   "source": []
  },
  {
   "cell_type": "markdown",
   "id": "22404f6d-dea9-4b9d-aa25-c9ef50ad3591",
   "metadata": {},
   "source": [
    "Direct price prediction"
   ]
  },
  {
   "cell_type": "code",
   "execution_count": 106,
   "id": "348c0d92-bdd5-44ab-a518-06816b9d8c0c",
   "metadata": {},
   "outputs": [],
   "source": [
    "forecast_horizon=24"
   ]
  },
  {
   "cell_type": "code",
   "execution_count": 107,
   "id": "02c2c2bb-67d9-4355-b6f2-f98e8ecb1d8d",
   "metadata": {},
   "outputs": [],
   "source": [
    "\n",
    "y=merged_df.iloc[:,19].shift(-forecast_horizon)\n",
    "win_length = 336\n",
    "batch_size = 16\n",
    "num_features = len(merged_df.columns)\n",
    "train_pos=int(len(merged_df)*0.8)\n",
    "train_generator = TimeseriesGenerator(merged_df.to_numpy()[0:train_pos],y.to_numpy()[0:train_pos],length=win_length,sampling_rate=1,batch_size=batch_size)\n",
    "test_generator = TimeseriesGenerator(merged_df.to_numpy()[train_pos-win_length:-forecast_horizon],y.to_numpy()[train_pos-win_length:-forecast_horizon],length=win_length,sampling_rate=1,batch_size=batch_size)\n"
   ]
  },
  {
   "cell_type": "code",
   "execution_count": 128,
   "id": "c7d0c62a-bc33-45d0-9b43-4876bb8fcf54",
   "metadata": {},
   "outputs": [],
   "source": [
    "model = tf.keras.Sequential()\n",
    "model.add(tf.keras.layers.Input(shape=(win_length,num_features)))\n",
    "model.add(tf.keras.layers.Flatten())\n",
    "model.add(tf.keras.layers.BatchNormalization())\n",
    "model.add(tf.keras.layers.Dense(1))\n",
    "model.compile(loss='MSE',optimizer=keras.optimizers.Adam(learning_rate=0.00001))"
   ]
  },
  {
   "cell_type": "code",
   "execution_count": 129,
   "id": "3a96f4e2-e948-4bf3-8e1e-f2bc7a1742ce",
   "metadata": {},
   "outputs": [
    {
     "data": {
      "text/html": [
       "<pre style=\"white-space:pre;overflow-x:auto;line-height:normal;font-family:Menlo,'DejaVu Sans Mono',consolas,'Courier New',monospace\"><span style=\"font-weight: bold\">Model: \"sequential_15\"</span>\n",
       "</pre>\n"
      ],
      "text/plain": [
       "\u001b[1mModel: \"sequential_15\"\u001b[0m\n"
      ]
     },
     "metadata": {},
     "output_type": "display_data"
    },
    {
     "data": {
      "text/html": [
       "<pre style=\"white-space:pre;overflow-x:auto;line-height:normal;font-family:Menlo,'DejaVu Sans Mono',consolas,'Courier New',monospace\">┏━━━━━━━━━━━━━━━━━━━━━━━━━━━━━━━━━┳━━━━━━━━━━━━━━━━━━━━━━━━┳━━━━━━━━━━━━━━━┓\n",
       "┃<span style=\"font-weight: bold\"> Layer (type)                    </span>┃<span style=\"font-weight: bold\"> Output Shape           </span>┃<span style=\"font-weight: bold\">       Param # </span>┃\n",
       "┡━━━━━━━━━━━━━━━━━━━━━━━━━━━━━━━━━╇━━━━━━━━━━━━━━━━━━━━━━━━╇━━━━━━━━━━━━━━━┩\n",
       "│ flatten_15 (<span style=\"color: #0087ff; text-decoration-color: #0087ff\">Flatten</span>)            │ (<span style=\"color: #00d7ff; text-decoration-color: #00d7ff\">None</span>, <span style=\"color: #00af00; text-decoration-color: #00af00\">8064</span>)           │             <span style=\"color: #00af00; text-decoration-color: #00af00\">0</span> │\n",
       "├─────────────────────────────────┼────────────────────────┼───────────────┤\n",
       "│ batch_normalization_15          │ (<span style=\"color: #00d7ff; text-decoration-color: #00d7ff\">None</span>, <span style=\"color: #00af00; text-decoration-color: #00af00\">8064</span>)           │        <span style=\"color: #00af00; text-decoration-color: #00af00\">32,256</span> │\n",
       "│ (<span style=\"color: #0087ff; text-decoration-color: #0087ff\">BatchNormalization</span>)            │                        │               │\n",
       "├─────────────────────────────────┼────────────────────────┼───────────────┤\n",
       "│ dense_28 (<span style=\"color: #0087ff; text-decoration-color: #0087ff\">Dense</span>)                │ (<span style=\"color: #00d7ff; text-decoration-color: #00d7ff\">None</span>, <span style=\"color: #00af00; text-decoration-color: #00af00\">1</span>)              │         <span style=\"color: #00af00; text-decoration-color: #00af00\">8,065</span> │\n",
       "└─────────────────────────────────┴────────────────────────┴───────────────┘\n",
       "</pre>\n"
      ],
      "text/plain": [
       "┏━━━━━━━━━━━━━━━━━━━━━━━━━━━━━━━━━┳━━━━━━━━━━━━━━━━━━━━━━━━┳━━━━━━━━━━━━━━━┓\n",
       "┃\u001b[1m \u001b[0m\u001b[1mLayer (type)                   \u001b[0m\u001b[1m \u001b[0m┃\u001b[1m \u001b[0m\u001b[1mOutput Shape          \u001b[0m\u001b[1m \u001b[0m┃\u001b[1m \u001b[0m\u001b[1m      Param #\u001b[0m\u001b[1m \u001b[0m┃\n",
       "┡━━━━━━━━━━━━━━━━━━━━━━━━━━━━━━━━━╇━━━━━━━━━━━━━━━━━━━━━━━━╇━━━━━━━━━━━━━━━┩\n",
       "│ flatten_15 (\u001b[38;5;33mFlatten\u001b[0m)            │ (\u001b[38;5;45mNone\u001b[0m, \u001b[38;5;34m8064\u001b[0m)           │             \u001b[38;5;34m0\u001b[0m │\n",
       "├─────────────────────────────────┼────────────────────────┼───────────────┤\n",
       "│ batch_normalization_15          │ (\u001b[38;5;45mNone\u001b[0m, \u001b[38;5;34m8064\u001b[0m)           │        \u001b[38;5;34m32,256\u001b[0m │\n",
       "│ (\u001b[38;5;33mBatchNormalization\u001b[0m)            │                        │               │\n",
       "├─────────────────────────────────┼────────────────────────┼───────────────┤\n",
       "│ dense_28 (\u001b[38;5;33mDense\u001b[0m)                │ (\u001b[38;5;45mNone\u001b[0m, \u001b[38;5;34m1\u001b[0m)              │         \u001b[38;5;34m8,065\u001b[0m │\n",
       "└─────────────────────────────────┴────────────────────────┴───────────────┘\n"
      ]
     },
     "metadata": {},
     "output_type": "display_data"
    },
    {
     "data": {
      "text/html": [
       "<pre style=\"white-space:pre;overflow-x:auto;line-height:normal;font-family:Menlo,'DejaVu Sans Mono',consolas,'Courier New',monospace\"><span style=\"font-weight: bold\"> Total params: </span><span style=\"color: #00af00; text-decoration-color: #00af00\">40,321</span> (157.50 KB)\n",
       "</pre>\n"
      ],
      "text/plain": [
       "\u001b[1m Total params: \u001b[0m\u001b[38;5;34m40,321\u001b[0m (157.50 KB)\n"
      ]
     },
     "metadata": {},
     "output_type": "display_data"
    },
    {
     "data": {
      "text/html": [
       "<pre style=\"white-space:pre;overflow-x:auto;line-height:normal;font-family:Menlo,'DejaVu Sans Mono',consolas,'Courier New',monospace\"><span style=\"font-weight: bold\"> Trainable params: </span><span style=\"color: #00af00; text-decoration-color: #00af00\">24,193</span> (94.50 KB)\n",
       "</pre>\n"
      ],
      "text/plain": [
       "\u001b[1m Trainable params: \u001b[0m\u001b[38;5;34m24,193\u001b[0m (94.50 KB)\n"
      ]
     },
     "metadata": {},
     "output_type": "display_data"
    },
    {
     "data": {
      "text/html": [
       "<pre style=\"white-space:pre;overflow-x:auto;line-height:normal;font-family:Menlo,'DejaVu Sans Mono',consolas,'Courier New',monospace\"><span style=\"font-weight: bold\"> Non-trainable params: </span><span style=\"color: #00af00; text-decoration-color: #00af00\">16,128</span> (63.00 KB)\n",
       "</pre>\n"
      ],
      "text/plain": [
       "\u001b[1m Non-trainable params: \u001b[0m\u001b[38;5;34m16,128\u001b[0m (63.00 KB)\n"
      ]
     },
     "metadata": {},
     "output_type": "display_data"
    }
   ],
   "source": [
    "model.summary()"
   ]
  },
  {
   "cell_type": "code",
   "execution_count": null,
   "id": "7583e240-4443-4b67-9227-992e5b157c62",
   "metadata": {},
   "outputs": [],
   "source": []
  },
  {
   "cell_type": "code",
   "execution_count": 130,
   "id": "d29c6ae9-fbae-4300-a9fb-73eca1d3abff",
   "metadata": {},
   "outputs": [
    {
     "name": "stdout",
     "output_type": "stream",
     "text": [
      "Epoch 1/50\n",
      "\u001b[1m8743/8743\u001b[0m \u001b[32m━━━━━━━━━━━━━━━━━━━━\u001b[0m\u001b[37m\u001b[0m \u001b[1m13s\u001b[0m 1ms/step - loss: 16552.9160 - val_loss: 92963.2109\n",
      "Epoch 2/50\n",
      "\u001b[1m8743/8743\u001b[0m \u001b[32m━━━━━━━━━━━━━━━━━━━━\u001b[0m\u001b[37m\u001b[0m \u001b[1m15s\u001b[0m 2ms/step - loss: 10788.6221 - val_loss: 45404.8203\n",
      "Epoch 3/50\n",
      "\u001b[1m8743/8743\u001b[0m \u001b[32m━━━━━━━━━━━━━━━━━━━━\u001b[0m\u001b[37m\u001b[0m \u001b[1m11s\u001b[0m 1ms/step - loss: 8385.6670 - val_loss: 39342.5977\n",
      "Epoch 4/50\n",
      "\u001b[1m8743/8743\u001b[0m \u001b[32m━━━━━━━━━━━━━━━━━━━━\u001b[0m\u001b[37m\u001b[0m \u001b[1m15s\u001b[0m 2ms/step - loss: 6803.2920 - val_loss: 541435.6875\n",
      "Epoch 5/50\n",
      "\u001b[1m8743/8743\u001b[0m \u001b[32m━━━━━━━━━━━━━━━━━━━━\u001b[0m\u001b[37m\u001b[0m \u001b[1m11s\u001b[0m 1ms/step - loss: 7239.1592 - val_loss: 31131.0703\n",
      "Epoch 6/50\n",
      "\u001b[1m8743/8743\u001b[0m \u001b[32m━━━━━━━━━━━━━━━━━━━━\u001b[0m\u001b[37m\u001b[0m \u001b[1m11s\u001b[0m 1ms/step - loss: 6215.5942 - val_loss: 406135.1250\n",
      "Epoch 7/50\n",
      "\u001b[1m8743/8743\u001b[0m \u001b[32m━━━━━━━━━━━━━━━━━━━━\u001b[0m\u001b[37m\u001b[0m \u001b[1m14s\u001b[0m 2ms/step - loss: 6215.8198 - val_loss: 1776052.6250\n",
      "Epoch 8/50\n",
      "\u001b[1m8743/8743\u001b[0m \u001b[32m━━━━━━━━━━━━━━━━━━━━\u001b[0m\u001b[37m\u001b[0m \u001b[1m11s\u001b[0m 1ms/step - loss: 7326.0981 - val_loss: 117306.0078\n",
      "Epoch 9/50\n",
      "\u001b[1m8743/8743\u001b[0m \u001b[32m━━━━━━━━━━━━━━━━━━━━\u001b[0m\u001b[37m\u001b[0m \u001b[1m11s\u001b[0m 1ms/step - loss: 8842.9980 - val_loss: 81371.0234\n",
      "Epoch 10/50\n",
      "\u001b[1m8743/8743\u001b[0m \u001b[32m━━━━━━━━━━━━━━━━━━━━\u001b[0m\u001b[37m\u001b[0m \u001b[1m15s\u001b[0m 2ms/step - loss: 8142.4761 - val_loss: 57173.5859\n",
      "Epoch 11/50\n",
      "\u001b[1m8743/8743\u001b[0m \u001b[32m━━━━━━━━━━━━━━━━━━━━\u001b[0m\u001b[37m\u001b[0m \u001b[1m12s\u001b[0m 1ms/step - loss: 6532.1372 - val_loss: 885614.2500\n",
      "Epoch 12/50\n",
      "\u001b[1m8743/8743\u001b[0m \u001b[32m━━━━━━━━━━━━━━━━━━━━\u001b[0m\u001b[37m\u001b[0m \u001b[1m12s\u001b[0m 1ms/step - loss: 7324.2788 - val_loss: 183040.3438\n",
      "Epoch 13/50\n",
      "\u001b[1m8743/8743\u001b[0m \u001b[32m━━━━━━━━━━━━━━━━━━━━\u001b[0m\u001b[37m\u001b[0m \u001b[1m14s\u001b[0m 2ms/step - loss: 7346.3535 - val_loss: 983985.7500\n",
      "Epoch 14/50\n",
      "\u001b[1m8743/8743\u001b[0m \u001b[32m━━━━━━━━━━━━━━━━━━━━\u001b[0m\u001b[37m\u001b[0m \u001b[1m12s\u001b[0m 1ms/step - loss: 6261.8882 - val_loss: 540204.3125\n",
      "Epoch 15/50\n",
      "\u001b[1m8743/8743\u001b[0m \u001b[32m━━━━━━━━━━━━━━━━━━━━\u001b[0m\u001b[37m\u001b[0m \u001b[1m11s\u001b[0m 1ms/step - loss: 7069.2783 - val_loss: 479828.1562\n",
      "Epoch 16/50\n",
      "\u001b[1m8743/8743\u001b[0m \u001b[32m━━━━━━━━━━━━━━━━━━━━\u001b[0m\u001b[37m\u001b[0m \u001b[1m14s\u001b[0m 2ms/step - loss: 6494.3071 - val_loss: 835928.9375\n",
      "Epoch 17/50\n",
      "\u001b[1m8743/8743\u001b[0m \u001b[32m━━━━━━━━━━━━━━━━━━━━\u001b[0m\u001b[37m\u001b[0m \u001b[1m11s\u001b[0m 1ms/step - loss: 7328.4282 - val_loss: 224430.4062\n",
      "Epoch 18/50\n",
      "\u001b[1m8743/8743\u001b[0m \u001b[32m━━━━━━━━━━━━━━━━━━━━\u001b[0m\u001b[37m\u001b[0m \u001b[1m15s\u001b[0m 2ms/step - loss: 8940.4414 - val_loss: 1726872.1250\n",
      "Epoch 19/50\n",
      "\u001b[1m8743/8743\u001b[0m \u001b[32m━━━━━━━━━━━━━━━━━━━━\u001b[0m\u001b[37m\u001b[0m \u001b[1m11s\u001b[0m 1ms/step - loss: 7060.5820 - val_loss: 447636.4062\n",
      "Epoch 20/50\n",
      "\u001b[1m8743/8743\u001b[0m \u001b[32m━━━━━━━━━━━━━━━━━━━━\u001b[0m\u001b[37m\u001b[0m \u001b[1m12s\u001b[0m 1ms/step - loss: 6151.2124 - val_loss: 502100.1875\n",
      "Epoch 21/50\n",
      "\u001b[1m8743/8743\u001b[0m \u001b[32m━━━━━━━━━━━━━━━━━━━━\u001b[0m\u001b[37m\u001b[0m \u001b[1m14s\u001b[0m 2ms/step - loss: 8183.7729 - val_loss: 841355.5000\n",
      "Epoch 22/50\n",
      "\u001b[1m8743/8743\u001b[0m \u001b[32m━━━━━━━━━━━━━━━━━━━━\u001b[0m\u001b[37m\u001b[0m \u001b[1m11s\u001b[0m 1ms/step - loss: 6979.8882 - val_loss: 31983.6133\n",
      "Epoch 23/50\n",
      "\u001b[1m8743/8743\u001b[0m \u001b[32m━━━━━━━━━━━━━━━━━━━━\u001b[0m\u001b[37m\u001b[0m \u001b[1m11s\u001b[0m 1ms/step - loss: 7133.9214 - val_loss: 219953.5938\n",
      "Epoch 24/50\n",
      "\u001b[1m8743/8743\u001b[0m \u001b[32m━━━━━━━━━━━━━━━━━━━━\u001b[0m\u001b[37m\u001b[0m \u001b[1m15s\u001b[0m 2ms/step - loss: 7565.2461 - val_loss: 636015.1250\n",
      "Epoch 25/50\n",
      "\u001b[1m8743/8743\u001b[0m \u001b[32m━━━━━━━━━━━━━━━━━━━━\u001b[0m\u001b[37m\u001b[0m \u001b[1m11s\u001b[0m 1ms/step - loss: 7609.4136 - val_loss: 149467.9219\n",
      "Epoch 26/50\n",
      "\u001b[1m8743/8743\u001b[0m \u001b[32m━━━━━━━━━━━━━━━━━━━━\u001b[0m\u001b[37m\u001b[0m \u001b[1m11s\u001b[0m 1ms/step - loss: 6718.5654 - val_loss: 215270.4688\n",
      "Epoch 27/50\n",
      "\u001b[1m8743/8743\u001b[0m \u001b[32m━━━━━━━━━━━━━━━━━━━━\u001b[0m\u001b[37m\u001b[0m \u001b[1m15s\u001b[0m 2ms/step - loss: 9559.1875 - val_loss: 468517.7188\n",
      "Epoch 28/50\n",
      "\u001b[1m8743/8743\u001b[0m \u001b[32m━━━━━━━━━━━━━━━━━━━━\u001b[0m\u001b[37m\u001b[0m \u001b[1m12s\u001b[0m 1ms/step - loss: 8200.6367 - val_loss: 161083.3594\n",
      "Epoch 29/50\n",
      "\u001b[1m8743/8743\u001b[0m \u001b[32m━━━━━━━━━━━━━━━━━━━━\u001b[0m\u001b[37m\u001b[0m \u001b[1m13s\u001b[0m 1ms/step - loss: 9490.1592 - val_loss: 322459.4375\n",
      "Epoch 30/50\n",
      "\u001b[1m8743/8743\u001b[0m \u001b[32m━━━━━━━━━━━━━━━━━━━━\u001b[0m\u001b[37m\u001b[0m \u001b[1m15s\u001b[0m 2ms/step - loss: 7663.9365 - val_loss: 832340.4375\n",
      "Epoch 31/50\n",
      "\u001b[1m8743/8743\u001b[0m \u001b[32m━━━━━━━━━━━━━━━━━━━━\u001b[0m\u001b[37m\u001b[0m \u001b[1m11s\u001b[0m 1ms/step - loss: 6841.0835 - val_loss: 184061.9688\n",
      "Epoch 32/50\n",
      "\u001b[1m8743/8743\u001b[0m \u001b[32m━━━━━━━━━━━━━━━━━━━━\u001b[0m\u001b[37m\u001b[0m \u001b[1m11s\u001b[0m 1ms/step - loss: 8287.5078 - val_loss: 563392.2500\n",
      "Epoch 33/50\n",
      "\u001b[1m8743/8743\u001b[0m \u001b[32m━━━━━━━━━━━━━━━━━━━━\u001b[0m\u001b[37m\u001b[0m \u001b[1m14s\u001b[0m 2ms/step - loss: 6313.6729 - val_loss: 242687.6406\n",
      "Epoch 34/50\n",
      "\u001b[1m8743/8743\u001b[0m \u001b[32m━━━━━━━━━━━━━━━━━━━━\u001b[0m\u001b[37m\u001b[0m \u001b[1m11s\u001b[0m 1ms/step - loss: 6604.9155 - val_loss: 537830.3125\n",
      "Epoch 35/50\n",
      "\u001b[1m8743/8743\u001b[0m \u001b[32m━━━━━━━━━━━━━━━━━━━━\u001b[0m\u001b[37m\u001b[0m \u001b[1m14s\u001b[0m 2ms/step - loss: 7081.2783 - val_loss: 756699.6875\n",
      "Epoch 36/50\n",
      "\u001b[1m8743/8743\u001b[0m \u001b[32m━━━━━━━━━━━━━━━━━━━━\u001b[0m\u001b[37m\u001b[0m \u001b[1m11s\u001b[0m 1ms/step - loss: 7514.2871 - val_loss: 604532.3750\n",
      "Epoch 37/50\n",
      "\u001b[1m8743/8743\u001b[0m \u001b[32m━━━━━━━━━━━━━━━━━━━━\u001b[0m\u001b[37m\u001b[0m \u001b[1m11s\u001b[0m 1ms/step - loss: 7192.7188 - val_loss: 657403.4375\n",
      "Epoch 38/50\n",
      "\u001b[1m8743/8743\u001b[0m \u001b[32m━━━━━━━━━━━━━━━━━━━━\u001b[0m\u001b[37m\u001b[0m \u001b[1m14s\u001b[0m 2ms/step - loss: 6640.9141 - val_loss: 1012516.3125\n",
      "Epoch 39/50\n",
      "\u001b[1m8743/8743\u001b[0m \u001b[32m━━━━━━━━━━━━━━━━━━━━\u001b[0m\u001b[37m\u001b[0m \u001b[1m11s\u001b[0m 1ms/step - loss: 7343.7422 - val_loss: 215490.0000\n",
      "Epoch 40/50\n",
      "\u001b[1m8743/8743\u001b[0m \u001b[32m━━━━━━━━━━━━━━━━━━━━\u001b[0m\u001b[37m\u001b[0m \u001b[1m11s\u001b[0m 1ms/step - loss: 7213.4380 - val_loss: 241238.9375\n",
      "Epoch 41/50\n",
      "\u001b[1m8743/8743\u001b[0m \u001b[32m━━━━━━━━━━━━━━━━━━━━\u001b[0m\u001b[37m\u001b[0m \u001b[1m14s\u001b[0m 2ms/step - loss: 6389.4341 - val_loss: 1564158.5000\n",
      "Epoch 42/50\n",
      "\u001b[1m8743/8743\u001b[0m \u001b[32m━━━━━━━━━━━━━━━━━━━━\u001b[0m\u001b[37m\u001b[0m \u001b[1m11s\u001b[0m 1ms/step - loss: 7440.0674 - val_loss: 52754.4648\n",
      "Epoch 43/50\n",
      "\u001b[1m8743/8743\u001b[0m \u001b[32m━━━━━━━━━━━━━━━━━━━━\u001b[0m\u001b[37m\u001b[0m \u001b[1m11s\u001b[0m 1ms/step - loss: 7774.8560 - val_loss: 417282.6250\n",
      "Epoch 44/50\n",
      "\u001b[1m8743/8743\u001b[0m \u001b[32m━━━━━━━━━━━━━━━━━━━━\u001b[0m\u001b[37m\u001b[0m \u001b[1m14s\u001b[0m 2ms/step - loss: 7744.3750 - val_loss: 418312.5938\n",
      "Epoch 45/50\n",
      "\u001b[1m8743/8743\u001b[0m \u001b[32m━━━━━━━━━━━━━━━━━━━━\u001b[0m\u001b[37m\u001b[0m \u001b[1m11s\u001b[0m 1ms/step - loss: 6881.0430 - val_loss: 1120491.6250\n",
      "Epoch 46/50\n",
      "\u001b[1m8743/8743\u001b[0m \u001b[32m━━━━━━━━━━━━━━━━━━━━\u001b[0m\u001b[37m\u001b[0m \u001b[1m11s\u001b[0m 1ms/step - loss: 6461.6206 - val_loss: 129544.1875\n",
      "Epoch 47/50\n",
      "\u001b[1m8743/8743\u001b[0m \u001b[32m━━━━━━━━━━━━━━━━━━━━\u001b[0m\u001b[37m\u001b[0m \u001b[1m15s\u001b[0m 2ms/step - loss: 8377.6748 - val_loss: 12220.3320\n",
      "Epoch 48/50\n",
      "\u001b[1m8743/8743\u001b[0m \u001b[32m━━━━━━━━━━━━━━━━━━━━\u001b[0m\u001b[37m\u001b[0m \u001b[1m11s\u001b[0m 1ms/step - loss: 7100.1411 - val_loss: 26348.4004\n",
      "Epoch 49/50\n",
      "\u001b[1m8743/8743\u001b[0m \u001b[32m━━━━━━━━━━━━━━━━━━━━\u001b[0m\u001b[37m\u001b[0m \u001b[1m11s\u001b[0m 1ms/step - loss: 6613.6562 - val_loss: 64924.8359\n",
      "Epoch 50/50\n",
      "\u001b[1m8743/8743\u001b[0m \u001b[32m━━━━━━━━━━━━━━━━━━━━\u001b[0m\u001b[37m\u001b[0m \u001b[1m14s\u001b[0m 2ms/step - loss: 6969.9653 - val_loss: 31181.3223\n"
     ]
    },
    {
     "data": {
      "text/plain": [
       "<keras.src.callbacks.history.History at 0x7f9de04e0bf0>"
      ]
     },
     "execution_count": 130,
     "metadata": {},
     "output_type": "execute_result"
    }
   ],
   "source": [
    "model.fit(train_generator,epochs=50,validation_data=test_generator)"
   ]
  },
  {
   "cell_type": "code",
   "execution_count": 133,
   "id": "08051f6f-0664-4479-9f4f-2126617707cb",
   "metadata": {},
   "outputs": [
    {
     "name": "stdout",
     "output_type": "stream",
     "text": [
      "\u001b[1m2190/2190\u001b[0m \u001b[32m━━━━━━━━━━━━━━━━━━━━\u001b[0m\u001b[37m\u001b[0m \u001b[1m2s\u001b[0m 979us/step\n"
     ]
    }
   ],
   "source": [
    "price_pred=model.predict(test_generator)"
   ]
  },
  {
   "cell_type": "code",
   "execution_count": 146,
   "id": "11ec2586-f7db-4ba7-989c-7a549fc55dc8",
   "metadata": {},
   "outputs": [
    {
     "data": {
      "text/plain": [
       "(0.0, 800.0)"
      ]
     },
     "execution_count": 146,
     "metadata": {},
     "output_type": "execute_result"
    },
    {
     "data": {
      "image/png": "[encoded data removed]",
      "text/plain": [
       "<Figure size 640x480 with 1 Axes>"
      ]
     },
     "metadata": {},
     "output_type": "display_data"
    }
   ],
   "source": [
    "plt.plot(y.to_numpy()[train_pos-win_length:-2])\n",
    "plt.plot(price_pred)\n",
    "plt.xlim([10000,11000])\n",
    "plt.ylim([0, 800])\n"
   ]
  },
  {
   "cell_type": "code",
   "execution_count": null,
   "id": "d4759a0d-6de1-423f-91ce-f9efec924ba0",
   "metadata": {},
   "outputs": [],
   "source": []
  },
  {
   "cell_type": "markdown",
   "id": "1646e599-7ef3-4d62-b4cb-52c46b9dbe91",
   "metadata": {},
   "source": [
    "Demand Predictioin"
   ]
  },
  {
   "cell_type": "code",
   "execution_count": 26,
   "id": "8573448d-10cd-4353-ac3e-092d7ea00cbb",
   "metadata": {},
   "outputs": [
    {
     "name": "stdout",
     "output_type": "stream",
     "text": [
      "<class 'pandas.core.frame.DataFrame'>\n",
      "DatetimeIndex: 175276 entries, 2014-01-01 00:00:00 to 2023-12-31 23:30:00\n",
      "Data columns (total 24 columns):\n",
      " #   Column            Non-Null Count   Dtype  \n",
      "---  ------            --------------   -----  \n",
      " 0   HighTemperature   175276 non-null  float64\n",
      " 1   LowTemperature    175276 non-null  float64\n",
      " 2   AvgTemperature    175276 non-null  float64\n",
      " 3   HighDewpoint      175276 non-null  float64\n",
      " 4   LowDewpoint       175276 non-null  float64\n",
      " 5   HighHumidity      175276 non-null  int64  \n",
      " 6   LowHumidity       175276 non-null  int64  \n",
      " 7   HighWindSpeed     175276 non-null  float64\n",
      " 8   HighWindGust      175276 non-null  float64\n",
      " 9   WindRun           175276 non-null  float64\n",
      " 10  Rainfall          175276 non-null  float64\n",
      " 11  HighRainRate      175276 non-null  float64\n",
      " 12  HighHourlyRain    175276 non-null  float64\n",
      " 13  HighPressure      175276 non-null  float64\n",
      " 14  LowPressure       175276 non-null  float64\n",
      " 15  Generation (GWh)  175276 non-null  float64\n",
      " 16  Generation ($)    175276 non-null  float64\n",
      " 17  Demand (GWh)      175276 non-null  float64\n",
      " 18  Demand ($)        175276 non-null  float64\n",
      " 19  Price ($/MWh)     175276 non-null  float64\n",
      " 20  day_of_year       175276 non-null  int32  \n",
      " 21  hour              175276 non-null  int32  \n",
      " 22  minute            175276 non-null  int32  \n",
      " 23  day_of_week       175276 non-null  int32  \n",
      "dtypes: float64(18), int32(4), int64(2)\n",
      "memory usage: 30.8 MB\n"
     ]
    }
   ],
   "source": [
    "merged_df.info()"
   ]
  },
  {
   "cell_type": "code",
   "execution_count": 89,
   "id": "deeed181-46ba-48ad-b9ba-c5374245a39b",
   "metadata": {},
   "outputs": [],
   "source": [
    "\n",
    "y=merged_df.iloc[:,17].shift(-forecast_horizon)\n",
    "win_length = 336\n",
    "batch_size = 256\n",
    "num_features = len(merged_df.columns)\n",
    "train_pos=int(len(merged_df)*0.8)\n",
    "train_generator = TimeseriesGenerator(merged_df.to_numpy()[0:train_pos],y.to_numpy()[0:train_pos],length=win_length,sampling_rate=1,batch_size=batch_size)\n",
    "test_generator = TimeseriesGenerator(merged_df.to_numpy()[train_pos-win_length:-forecast_horizon],y.to_numpy()[train_pos-win_length:-forecast_horizon],length=win_length,sampling_rate=1,batch_size=batch_size)\n"
   ]
  },
  {
   "cell_type": "code",
   "execution_count": 90,
   "id": "84a4817c-693e-433f-bb6b-3486c10c7d09",
   "metadata": {},
   "outputs": [],
   "source": [
    "model = tf.keras.Sequential()\n",
    "model.add(tf.keras.layers.Input(shape=(win_length,num_features)))\n",
    "model.add(tf.keras.layers.Flatten())\n",
    "model.add(tf.keras.layers.BatchNormalization())\n",
    "model.add(tf.keras.layers.Dropout(0.25))\n",
    "model.add(tf.keras.layers.Dense(4,activation='relu'))\n",
    "model.add(tf.keras.layers.Dropout(0.25))\n",
    "model.add(tf.keras.layers.Dense(1,activation='relu'))\n",
    "model.compile(loss='MSE',optimizer=keras.optimizers.Adam(learning_rate=0.00003))"
   ]
  },
  {
   "cell_type": "code",
   "execution_count": 91,
   "id": "b717b3da-100b-4567-94fb-8b82a3b4eaa4",
   "metadata": {
    "scrolled": true
   },
   "outputs": [
    {
     "name": "stdout",
     "output_type": "stream",
     "text": [
      "Epoch 1/50\n",
      "\u001b[1m547/547\u001b[0m \u001b[32m━━━━━━━━━━━━━━━━━━━━\u001b[0m\u001b[37m\u001b[0m \u001b[1m5s\u001b[0m 7ms/step - loss: 3.2471 - val_loss: 1.4741\n",
      "Epoch 2/50\n",
      "\u001b[1m547/547\u001b[0m \u001b[32m━━━━━━━━━━━━━━━━━━━━\u001b[0m\u001b[37m\u001b[0m \u001b[1m3s\u001b[0m 5ms/step - loss: 2.2335 - val_loss: 0.8689\n",
      "Epoch 3/50\n",
      "\u001b[1m547/547\u001b[0m \u001b[32m━━━━━━━━━━━━━━━━━━━━\u001b[0m\u001b[37m\u001b[0m \u001b[1m6s\u001b[0m 11ms/step - loss: 1.9855 - val_loss: 0.9162\n",
      "Epoch 4/50\n",
      "\u001b[1m547/547\u001b[0m \u001b[32m━━━━━━━━━━━━━━━━━━━━\u001b[0m\u001b[37m\u001b[0m \u001b[1m3s\u001b[0m 5ms/step - loss: 1.8148 - val_loss: 0.5736\n",
      "Epoch 5/50\n",
      "\u001b[1m547/547\u001b[0m \u001b[32m━━━━━━━━━━━━━━━━━━━━\u001b[0m\u001b[37m\u001b[0m \u001b[1m3s\u001b[0m 6ms/step - loss: 1.6765 - val_loss: 0.5854\n",
      "Epoch 6/50\n",
      "\u001b[1m547/547\u001b[0m \u001b[32m━━━━━━━━━━━━━━━━━━━━\u001b[0m\u001b[37m\u001b[0m \u001b[1m4s\u001b[0m 7ms/step - loss: 1.5193 - val_loss: 1.8150\n",
      "Epoch 7/50\n",
      "\u001b[1m547/547\u001b[0m \u001b[32m━━━━━━━━━━━━━━━━━━━━\u001b[0m\u001b[37m\u001b[0m \u001b[1m3s\u001b[0m 5ms/step - loss: 1.4169 - val_loss: 1.4179\n",
      "Epoch 8/50\n",
      "\u001b[1m547/547\u001b[0m \u001b[32m━━━━━━━━━━━━━━━━━━━━\u001b[0m\u001b[37m\u001b[0m \u001b[1m3s\u001b[0m 5ms/step - loss: 1.3319 - val_loss: 0.2603\n",
      "Epoch 9/50\n",
      "\u001b[1m547/547\u001b[0m \u001b[32m━━━━━━━━━━━━━━━━━━━━\u001b[0m\u001b[37m\u001b[0m \u001b[1m4s\u001b[0m 7ms/step - loss: 1.2253 - val_loss: 0.2893\n",
      "Epoch 10/50\n",
      "\u001b[1m547/547\u001b[0m \u001b[32m━━━━━━━━━━━━━━━━━━━━\u001b[0m\u001b[37m\u001b[0m \u001b[1m3s\u001b[0m 6ms/step - loss: 1.1775 - val_loss: 0.4606\n",
      "Epoch 11/50\n",
      "\u001b[1m547/547\u001b[0m \u001b[32m━━━━━━━━━━━━━━━━━━━━\u001b[0m\u001b[37m\u001b[0m \u001b[1m3s\u001b[0m 6ms/step - loss: 1.1038 - val_loss: 0.1920\n",
      "Epoch 12/50\n",
      "\u001b[1m547/547\u001b[0m \u001b[32m━━━━━━━━━━━━━━━━━━━━\u001b[0m\u001b[37m\u001b[0m \u001b[1m3s\u001b[0m 5ms/step - loss: 1.0519 - val_loss: 0.2932\n",
      "Epoch 13/50\n",
      "\u001b[1m547/547\u001b[0m \u001b[32m━━━━━━━━━━━━━━━━━━━━\u001b[0m\u001b[37m\u001b[0m \u001b[1m3s\u001b[0m 5ms/step - loss: 0.9857 - val_loss: 0.1929\n",
      "Epoch 14/50\n",
      "\u001b[1m547/547\u001b[0m \u001b[32m━━━━━━━━━━━━━━━━━━━━\u001b[0m\u001b[37m\u001b[0m \u001b[1m7s\u001b[0m 6ms/step - loss: 0.9554 - val_loss: 0.3734\n",
      "Epoch 15/50\n",
      "\u001b[1m547/547\u001b[0m \u001b[32m━━━━━━━━━━━━━━━━━━━━\u001b[0m\u001b[37m\u001b[0m \u001b[1m3s\u001b[0m 5ms/step - loss: 0.9323 - val_loss: 0.1838\n",
      "Epoch 16/50\n",
      "\u001b[1m547/547\u001b[0m \u001b[32m━━━━━━━━━━━━━━━━━━━━\u001b[0m\u001b[37m\u001b[0m \u001b[1m3s\u001b[0m 6ms/step - loss: 0.9014 - val_loss: 0.1919\n",
      "Epoch 17/50\n",
      "\u001b[1m547/547\u001b[0m \u001b[32m━━━━━━━━━━━━━━━━━━━━\u001b[0m\u001b[37m\u001b[0m \u001b[1m3s\u001b[0m 6ms/step - loss: 0.8694 - val_loss: 0.1656\n",
      "Epoch 18/50\n",
      "\u001b[1m547/547\u001b[0m \u001b[32m━━━━━━━━━━━━━━━━━━━━\u001b[0m\u001b[37m\u001b[0m \u001b[1m3s\u001b[0m 5ms/step - loss: 0.8402 - val_loss: 0.2035\n",
      "Epoch 19/50\n",
      "\u001b[1m547/547\u001b[0m \u001b[32m━━━━━━━━━━━━━━━━━━━━\u001b[0m\u001b[37m\u001b[0m \u001b[1m3s\u001b[0m 6ms/step - loss: 0.8335 - val_loss: 0.1969\n",
      "Epoch 20/50\n",
      "\u001b[1m547/547\u001b[0m \u001b[32m━━━━━━━━━━━━━━━━━━━━\u001b[0m\u001b[37m\u001b[0m \u001b[1m3s\u001b[0m 5ms/step - loss: 0.8058 - val_loss: 0.1355\n",
      "Epoch 21/50\n",
      "\u001b[1m547/547\u001b[0m \u001b[32m━━━━━━━━━━━━━━━━━━━━\u001b[0m\u001b[37m\u001b[0m \u001b[1m3s\u001b[0m 6ms/step - loss: 0.7825 - val_loss: 0.2240\n",
      "Epoch 22/50\n",
      "\u001b[1m547/547\u001b[0m \u001b[32m━━━━━━━━━━━━━━━━━━━━\u001b[0m\u001b[37m\u001b[0m \u001b[1m3s\u001b[0m 5ms/step - loss: 0.7578 - val_loss: 0.1655\n",
      "Epoch 23/50\n",
      "\u001b[1m547/547\u001b[0m \u001b[32m━━━━━━━━━━━━━━━━━━━━\u001b[0m\u001b[37m\u001b[0m \u001b[1m3s\u001b[0m 5ms/step - loss: 0.7558 - val_loss: 0.1362\n",
      "Epoch 24/50\n",
      "\u001b[1m547/547\u001b[0m \u001b[32m━━━━━━━━━━━━━━━━━━━━\u001b[0m\u001b[37m\u001b[0m \u001b[1m6s\u001b[0m 11ms/step - loss: 0.7373 - val_loss: 0.1198\n",
      "Epoch 25/50\n",
      "\u001b[1m547/547\u001b[0m \u001b[32m━━━━━━━━━━━━━━━━━━━━\u001b[0m\u001b[37m\u001b[0m \u001b[1m3s\u001b[0m 6ms/step - loss: 0.7256 - val_loss: 0.2470\n",
      "Epoch 26/50\n",
      "\u001b[1m547/547\u001b[0m \u001b[32m━━━━━━━━━━━━━━━━━━━━\u001b[0m\u001b[37m\u001b[0m \u001b[1m3s\u001b[0m 5ms/step - loss: 0.7033 - val_loss: 0.2075\n",
      "Epoch 27/50\n",
      "\u001b[1m547/547\u001b[0m \u001b[32m━━━━━━━━━━━━━━━━━━━━\u001b[0m\u001b[37m\u001b[0m \u001b[1m3s\u001b[0m 6ms/step - loss: 0.6888 - val_loss: 0.1051\n",
      "Epoch 28/50\n",
      "\u001b[1m547/547\u001b[0m \u001b[32m━━━━━━━━━━━━━━━━━━━━\u001b[0m\u001b[37m\u001b[0m \u001b[1m3s\u001b[0m 6ms/step - loss: 0.6811 - val_loss: 0.2280\n",
      "Epoch 29/50\n",
      "\u001b[1m547/547\u001b[0m \u001b[32m━━━━━━━━━━━━━━━━━━━━\u001b[0m\u001b[37m\u001b[0m \u001b[1m3s\u001b[0m 5ms/step - loss: 0.6697 - val_loss: 0.2363\n",
      "Epoch 30/50\n",
      "\u001b[1m547/547\u001b[0m \u001b[32m━━━━━━━━━━━━━━━━━━━━\u001b[0m\u001b[37m\u001b[0m \u001b[1m3s\u001b[0m 6ms/step - loss: 0.6659 - val_loss: 0.1647\n",
      "Epoch 31/50\n",
      "\u001b[1m547/547\u001b[0m \u001b[32m━━━━━━━━━━━━━━━━━━━━\u001b[0m\u001b[37m\u001b[0m \u001b[1m3s\u001b[0m 5ms/step - loss: 0.6488 - val_loss: 0.1938\n",
      "Epoch 32/50\n",
      "\u001b[1m547/547\u001b[0m \u001b[32m━━━━━━━━━━━━━━━━━━━━\u001b[0m\u001b[37m\u001b[0m \u001b[1m3s\u001b[0m 5ms/step - loss: 0.6384 - val_loss: 0.1036\n",
      "Epoch 33/50\n",
      "\u001b[1m547/547\u001b[0m \u001b[32m━━━━━━━━━━━━━━━━━━━━\u001b[0m\u001b[37m\u001b[0m \u001b[1m3s\u001b[0m 5ms/step - loss: 0.6235 - val_loss: 0.1016\n",
      "Epoch 34/50\n",
      "\u001b[1m547/547\u001b[0m \u001b[32m━━━━━━━━━━━━━━━━━━━━\u001b[0m\u001b[37m\u001b[0m \u001b[1m3s\u001b[0m 5ms/step - loss: 0.6120 - val_loss: 0.1301\n",
      "Epoch 35/50\n",
      "\u001b[1m547/547\u001b[0m \u001b[32m━━━━━━━━━━━━━━━━━━━━\u001b[0m\u001b[37m\u001b[0m \u001b[1m6s\u001b[0m 11ms/step - loss: 0.6095 - val_loss: 0.1264\n",
      "Epoch 36/50\n",
      "\u001b[1m547/547\u001b[0m \u001b[32m━━━━━━━━━━━━━━━━━━━━\u001b[0m\u001b[37m\u001b[0m \u001b[1m3s\u001b[0m 5ms/step - loss: 0.6044 - val_loss: 0.1354\n",
      "Epoch 37/50\n",
      "\u001b[1m547/547\u001b[0m \u001b[32m━━━━━━━━━━━━━━━━━━━━\u001b[0m\u001b[37m\u001b[0m \u001b[1m3s\u001b[0m 5ms/step - loss: 0.5758 - val_loss: 0.2266\n",
      "Epoch 38/50\n",
      "\u001b[1m547/547\u001b[0m \u001b[32m━━━━━━━━━━━━━━━━━━━━\u001b[0m\u001b[37m\u001b[0m \u001b[1m3s\u001b[0m 5ms/step - loss: 0.5711 - val_loss: 0.1038\n",
      "Epoch 39/50\n",
      "\u001b[1m547/547\u001b[0m \u001b[32m━━━━━━━━━━━━━━━━━━━━\u001b[0m\u001b[37m\u001b[0m \u001b[1m3s\u001b[0m 5ms/step - loss: 0.5720 - val_loss: 0.1777\n",
      "Epoch 40/50\n",
      "\u001b[1m547/547\u001b[0m \u001b[32m━━━━━━━━━━━━━━━━━━━━\u001b[0m\u001b[37m\u001b[0m \u001b[1m3s\u001b[0m 5ms/step - loss: 0.5545 - val_loss: 0.0994\n",
      "Epoch 41/50\n",
      "\u001b[1m547/547\u001b[0m \u001b[32m━━━━━━━━━━━━━━━━━━━━\u001b[0m\u001b[37m\u001b[0m \u001b[1m3s\u001b[0m 5ms/step - loss: 0.5421 - val_loss: 0.1682\n",
      "Epoch 42/50\n",
      "\u001b[1m547/547\u001b[0m \u001b[32m━━━━━━━━━━━━━━━━━━━━\u001b[0m\u001b[37m\u001b[0m \u001b[1m3s\u001b[0m 5ms/step - loss: 0.5324 - val_loss: 0.1030\n",
      "Epoch 43/50\n",
      "\u001b[1m547/547\u001b[0m \u001b[32m━━━━━━━━━━━━━━━━━━━━\u001b[0m\u001b[37m\u001b[0m \u001b[1m3s\u001b[0m 5ms/step - loss: 0.5279 - val_loss: 0.1500\n",
      "Epoch 44/50\n",
      "\u001b[1m547/547\u001b[0m \u001b[32m━━━━━━━━━━━━━━━━━━━━\u001b[0m\u001b[37m\u001b[0m \u001b[1m3s\u001b[0m 5ms/step - loss: 0.5250 - val_loss: 0.2049\n",
      "Epoch 45/50\n",
      "\u001b[1m547/547\u001b[0m \u001b[32m━━━━━━━━━━━━━━━━━━━━\u001b[0m\u001b[37m\u001b[0m \u001b[1m3s\u001b[0m 5ms/step - loss: 0.5150 - val_loss: 0.0749\n",
      "Epoch 46/50\n",
      "\u001b[1m547/547\u001b[0m \u001b[32m━━━━━━━━━━━━━━━━━━━━\u001b[0m\u001b[37m\u001b[0m \u001b[1m6s\u001b[0m 11ms/step - loss: 0.5008 - val_loss: 0.0962\n",
      "Epoch 47/50\n",
      "\u001b[1m547/547\u001b[0m \u001b[32m━━━━━━━━━━━━━━━━━━━━\u001b[0m\u001b[37m\u001b[0m \u001b[1m3s\u001b[0m 5ms/step - loss: 0.4987 - val_loss: 0.2184\n",
      "Epoch 48/50\n",
      "\u001b[1m547/547\u001b[0m \u001b[32m━━━━━━━━━━━━━━━━━━━━\u001b[0m\u001b[37m\u001b[0m \u001b[1m5s\u001b[0m 5ms/step - loss: 0.4910 - val_loss: 0.1326\n",
      "Epoch 49/50\n",
      "\u001b[1m547/547\u001b[0m \u001b[32m━━━━━━━━━━━━━━━━━━━━\u001b[0m\u001b[37m\u001b[0m \u001b[1m3s\u001b[0m 6ms/step - loss: 0.4788 - val_loss: 0.1217\n",
      "Epoch 50/50\n",
      "\u001b[1m547/547\u001b[0m \u001b[32m━━━━━━━━━━━━━━━━━━━━\u001b[0m\u001b[37m\u001b[0m \u001b[1m3s\u001b[0m 5ms/step - loss: 0.4679 - val_loss: 0.1062\n"
     ]
    },
    {
     "data": {
      "text/plain": [
       "<keras.src.callbacks.history.History at 0x7f9d80721400>"
      ]
     },
     "execution_count": 91,
     "metadata": {},
     "output_type": "execute_result"
    }
   ],
   "source": [
    "model.fit(train_generator,epochs=50,validation_data=test_generator)"
   ]
  },
  {
   "cell_type": "code",
   "execution_count": 92,
   "id": "8fe5be48-4457-4cc1-adda-6f3250196659",
   "metadata": {},
   "outputs": [
    {
     "name": "stdout",
     "output_type": "stream",
     "text": [
      "\u001b[1m137/137\u001b[0m \u001b[32m━━━━━━━━━━━━━━━━━━━━\u001b[0m\u001b[37m\u001b[0m \u001b[1m1s\u001b[0m 5ms/step\n"
     ]
    }
   ],
   "source": [
    "demand_pred=model.predict(test_generator)"
   ]
  },
  {
   "cell_type": "code",
   "execution_count": 98,
   "id": "f8576ec4-ca0a-464a-8780-bbdc2d557cf3",
   "metadata": {},
   "outputs": [
    {
     "data": {
      "text/plain": [
       "(1000.0, 2000.0)"
      ]
     },
     "execution_count": 98,
     "metadata": {},
     "output_type": "execute_result"
    },
    {
     "data": {
      "image/png": "[encoded data removed]",
      "text/plain": [
       "<Figure size 640x480 with 1 Axes>"
      ]
     },
     "metadata": {},
     "output_type": "display_data"
    }
   ],
   "source": [
    "plt.plot(y.to_numpy()[train_pos-win_length:-2])\n",
    "plt.plot(demand_pred)\n",
    "plt.xlim([1000,2000])"
   ]
  },
  {
   "cell_type": "markdown",
   "id": "e94daf4d-0606-446f-a595-3ba1a8efb19a",
   "metadata": {},
   "source": [
    "Generation Prediction"
   ]
  },
  {
   "cell_type": "code",
   "execution_count": 99,
   "id": "5f5785bb-3995-4824-a778-40ab5d3d8e11",
   "metadata": {},
   "outputs": [],
   "source": [
    "model = tf.keras.Sequential()\n",
    "model.add(tf.keras.layers.Input(shape=(win_length,num_features)))\n",
    "model.add(tf.keras.layers.Flatten())\n",
    "model.add(tf.keras.layers.BatchNormalization())\n",
    "model.add(tf.keras.layers.Dropout(0.25))\n",
    "model.add(tf.keras.layers.Dense(4,activation='relu'))\n",
    "model.add(tf.keras.layers.Dropout(0.25))\n",
    "model.add(tf.keras.layers.Dense(1,activation='relu'))\n",
    "model.compile(loss='MSE',optimizer=keras.optimizers.Adam(learning_rate=0.00003))"
   ]
  },
  {
   "cell_type": "code",
   "execution_count": null,
   "id": "57c95d30-d9bb-490b-83e2-599e28e95e1d",
   "metadata": {},
   "outputs": [],
   "source": []
  },
  {
   "cell_type": "code",
   "execution_count": 100,
   "id": "8e5999a2-da10-450b-9ecf-7846cb3ebf96",
   "metadata": {},
   "outputs": [],
   "source": [
    "\n",
    "y=merged_df.iloc[:,15].shift(-forecast_horizon)\n",
    "win_length = 336\n",
    "batch_size = 256\n",
    "num_features = len(merged_df.columns)\n",
    "train_pos=int(len(merged_df)*0.8)\n",
    "train_generator = TimeseriesGenerator(merged_df.to_numpy()[0:train_pos],y.to_numpy()[0:train_pos],length=win_length,sampling_rate=1,batch_size=batch_size)\n",
    "test_generator = TimeseriesGenerator(merged_df.to_numpy()[train_pos-win_length:-forecast_horizon],y.to_numpy()[train_pos-win_length:-forecast_horizon],length=win_length,sampling_rate=1,batch_size=batch_size)"
   ]
  },
  {
   "cell_type": "code",
   "execution_count": 101,
   "id": "11133385-d45c-456a-b2e3-f28024622725",
   "metadata": {
    "scrolled": true
   },
   "outputs": [
    {
     "name": "stdout",
     "output_type": "stream",
     "text": [
      "Epoch 1/50\n",
      "\u001b[1m547/547\u001b[0m \u001b[32m━━━━━━━━━━━━━━━━━━━━\u001b[0m\u001b[37m\u001b[0m \u001b[1m8s\u001b[0m 13ms/step - loss: 4.0083 - val_loss: 1.4296\n",
      "Epoch 2/50\n",
      "\u001b[1m547/547\u001b[0m \u001b[32m━━━━━━━━━━━━━━━━━━━━\u001b[0m\u001b[37m\u001b[0m \u001b[1m3s\u001b[0m 5ms/step - loss: 2.0038 - val_loss: 0.9567\n",
      "Epoch 3/50\n",
      "\u001b[1m547/547\u001b[0m \u001b[32m━━━━━━━━━━━━━━━━━━━━\u001b[0m\u001b[37m\u001b[0m \u001b[1m3s\u001b[0m 5ms/step - loss: 1.6706 - val_loss: 0.7891\n",
      "Epoch 4/50\n",
      "\u001b[1m547/547\u001b[0m \u001b[32m━━━━━━━━━━━━━━━━━━━━\u001b[0m\u001b[37m\u001b[0m \u001b[1m3s\u001b[0m 5ms/step - loss: 1.5364 - val_loss: 0.5655\n",
      "Epoch 5/50\n",
      "\u001b[1m547/547\u001b[0m \u001b[32m━━━━━━━━━━━━━━━━━━━━\u001b[0m\u001b[37m\u001b[0m \u001b[1m3s\u001b[0m 5ms/step - loss: 1.4628 - val_loss: 0.4977\n",
      "Epoch 6/50\n",
      "\u001b[1m547/547\u001b[0m \u001b[32m━━━━━━━━━━━━━━━━━━━━\u001b[0m\u001b[37m\u001b[0m \u001b[1m3s\u001b[0m 5ms/step - loss: 1.3644 - val_loss: 0.4179\n",
      "Epoch 7/50\n",
      "\u001b[1m547/547\u001b[0m \u001b[32m━━━━━━━━━━━━━━━━━━━━\u001b[0m\u001b[37m\u001b[0m \u001b[1m3s\u001b[0m 5ms/step - loss: 1.3034 - val_loss: 0.3597\n",
      "Epoch 8/50\n",
      "\u001b[1m547/547\u001b[0m \u001b[32m━━━━━━━━━━━━━━━━━━━━\u001b[0m\u001b[37m\u001b[0m \u001b[1m3s\u001b[0m 5ms/step - loss: 1.2357 - val_loss: 0.3329\n",
      "Epoch 9/50\n",
      "\u001b[1m547/547\u001b[0m \u001b[32m━━━━━━━━━━━━━━━━━━━━\u001b[0m\u001b[37m\u001b[0m \u001b[1m3s\u001b[0m 5ms/step - loss: 1.2093 - val_loss: 0.2759\n",
      "Epoch 10/50\n",
      "\u001b[1m547/547\u001b[0m \u001b[32m━━━━━━━━━━━━━━━━━━━━\u001b[0m\u001b[37m\u001b[0m \u001b[1m3s\u001b[0m 5ms/step - loss: 1.1734 - val_loss: 0.3008\n",
      "Epoch 11/50\n",
      "\u001b[1m547/547\u001b[0m \u001b[32m━━━━━━━━━━━━━━━━━━━━\u001b[0m\u001b[37m\u001b[0m \u001b[1m3s\u001b[0m 5ms/step - loss: 1.0848 - val_loss: 0.2827\n",
      "Epoch 12/50\n",
      "\u001b[1m547/547\u001b[0m \u001b[32m━━━━━━━━━━━━━━━━━━━━\u001b[0m\u001b[37m\u001b[0m \u001b[1m6s\u001b[0m 11ms/step - loss: 0.9322 - val_loss: 0.2498\n",
      "Epoch 13/50\n",
      "\u001b[1m547/547\u001b[0m \u001b[32m━━━━━━━━━━━━━━━━━━━━\u001b[0m\u001b[37m\u001b[0m \u001b[1m3s\u001b[0m 5ms/step - loss: 0.8859 - val_loss: 0.1961\n",
      "Epoch 14/50\n",
      "\u001b[1m547/547\u001b[0m \u001b[32m━━━━━━━━━━━━━━━━━━━━\u001b[0m\u001b[37m\u001b[0m \u001b[1m3s\u001b[0m 5ms/step - loss: 0.8787 - val_loss: 0.2397\n",
      "Epoch 15/50\n",
      "\u001b[1m547/547\u001b[0m \u001b[32m━━━━━━━━━━━━━━━━━━━━\u001b[0m\u001b[37m\u001b[0m \u001b[1m3s\u001b[0m 5ms/step - loss: 0.8579 - val_loss: 0.1983\n",
      "Epoch 16/50\n",
      "\u001b[1m547/547\u001b[0m \u001b[32m━━━━━━━━━━━━━━━━━━━━\u001b[0m\u001b[37m\u001b[0m \u001b[1m3s\u001b[0m 6ms/step - loss: 0.8331 - val_loss: 0.1554\n",
      "Epoch 17/50\n",
      "\u001b[1m547/547\u001b[0m \u001b[32m━━━━━━━━━━━━━━━━━━━━\u001b[0m\u001b[37m\u001b[0m \u001b[1m3s\u001b[0m 5ms/step - loss: 0.8092 - val_loss: 0.1536\n",
      "Epoch 18/50\n",
      "\u001b[1m547/547\u001b[0m \u001b[32m━━━━━━━━━━━━━━━━━━━━\u001b[0m\u001b[37m\u001b[0m \u001b[1m3s\u001b[0m 5ms/step - loss: 0.7984 - val_loss: 0.2263\n",
      "Epoch 19/50\n",
      "\u001b[1m547/547\u001b[0m \u001b[32m━━━━━━━━━━━━━━━━━━━━\u001b[0m\u001b[37m\u001b[0m \u001b[1m3s\u001b[0m 6ms/step - loss: 0.7915 - val_loss: 0.1526\n",
      "Epoch 20/50\n",
      "\u001b[1m547/547\u001b[0m \u001b[32m━━━━━━━━━━━━━━━━━━━━\u001b[0m\u001b[37m\u001b[0m \u001b[1m3s\u001b[0m 5ms/step - loss: 0.7767 - val_loss: 0.1682\n",
      "Epoch 21/50\n",
      "\u001b[1m547/547\u001b[0m \u001b[32m━━━━━━━━━━━━━━━━━━━━\u001b[0m\u001b[37m\u001b[0m \u001b[1m3s\u001b[0m 5ms/step - loss: 0.7731 - val_loss: 0.2088\n",
      "Epoch 22/50\n",
      "\u001b[1m547/547\u001b[0m \u001b[32m━━━━━━━━━━━━━━━━━━━━\u001b[0m\u001b[37m\u001b[0m \u001b[1m3s\u001b[0m 5ms/step - loss: 0.7500 - val_loss: 0.1874\n",
      "Epoch 23/50\n",
      "\u001b[1m547/547\u001b[0m \u001b[32m━━━━━━━━━━━━━━━━━━━━\u001b[0m\u001b[37m\u001b[0m \u001b[1m6s\u001b[0m 11ms/step - loss: 0.7462 - val_loss: 0.1483\n",
      "Epoch 24/50\n",
      "\u001b[1m547/547\u001b[0m \u001b[32m━━━━━━━━━━━━━━━━━━━━\u001b[0m\u001b[37m\u001b[0m \u001b[1m3s\u001b[0m 5ms/step - loss: 0.7186 - val_loss: 0.1405\n",
      "Epoch 25/50\n",
      "\u001b[1m547/547\u001b[0m \u001b[32m━━━━━━━━━━━━━━━━━━━━\u001b[0m\u001b[37m\u001b[0m \u001b[1m3s\u001b[0m 5ms/step - loss: 0.7228 - val_loss: 0.1555\n",
      "Epoch 26/50\n",
      "\u001b[1m547/547\u001b[0m \u001b[32m━━━━━━━━━━━━━━━━━━━━\u001b[0m\u001b[37m\u001b[0m \u001b[1m3s\u001b[0m 5ms/step - loss: 0.7051 - val_loss: 0.1305\n",
      "Epoch 27/50\n",
      "\u001b[1m547/547\u001b[0m \u001b[32m━━━━━━━━━━━━━━━━━━━━\u001b[0m\u001b[37m\u001b[0m \u001b[1m3s\u001b[0m 6ms/step - loss: 0.6927 - val_loss: 0.1654\n",
      "Epoch 28/50\n",
      "\u001b[1m547/547\u001b[0m \u001b[32m━━━━━━━━━━━━━━━━━━━━\u001b[0m\u001b[37m\u001b[0m \u001b[1m3s\u001b[0m 5ms/step - loss: 0.6941 - val_loss: 0.1336\n",
      "Epoch 29/50\n",
      "\u001b[1m547/547\u001b[0m \u001b[32m━━━━━━━━━━━━━━━━━━━━\u001b[0m\u001b[37m\u001b[0m \u001b[1m3s\u001b[0m 5ms/step - loss: 0.6823 - val_loss: 0.1762\n",
      "Epoch 30/50\n",
      "\u001b[1m547/547\u001b[0m \u001b[32m━━━━━━━━━━━━━━━━━━━━\u001b[0m\u001b[37m\u001b[0m \u001b[1m3s\u001b[0m 5ms/step - loss: 0.6685 - val_loss: 0.1491\n",
      "Epoch 31/50\n",
      "\u001b[1m547/547\u001b[0m \u001b[32m━━━━━━━━━━━━━━━━━━━━\u001b[0m\u001b[37m\u001b[0m \u001b[1m3s\u001b[0m 5ms/step - loss: 0.6698 - val_loss: 0.1668\n",
      "Epoch 32/50\n",
      "\u001b[1m547/547\u001b[0m \u001b[32m━━━━━━━━━━━━━━━━━━━━\u001b[0m\u001b[37m\u001b[0m \u001b[1m3s\u001b[0m 5ms/step - loss: 0.6565 - val_loss: 0.1380\n",
      "Epoch 33/50\n",
      "\u001b[1m547/547\u001b[0m \u001b[32m━━━━━━━━━━━━━━━━━━━━\u001b[0m\u001b[37m\u001b[0m \u001b[1m3s\u001b[0m 5ms/step - loss: 0.6392 - val_loss: 0.1495\n",
      "Epoch 34/50\n",
      "\u001b[1m547/547\u001b[0m \u001b[32m━━━━━━━━━━━━━━━━━━━━\u001b[0m\u001b[37m\u001b[0m \u001b[1m6s\u001b[0m 11ms/step - loss: 0.6302 - val_loss: 0.1313\n",
      "Epoch 35/50\n",
      "\u001b[1m547/547\u001b[0m \u001b[32m━━━━━━━━━━━━━━━━━━━━\u001b[0m\u001b[37m\u001b[0m \u001b[1m3s\u001b[0m 5ms/step - loss: 0.6180 - val_loss: 0.1452\n",
      "Epoch 36/50\n",
      "\u001b[1m547/547\u001b[0m \u001b[32m━━━━━━━━━━━━━━━━━━━━\u001b[0m\u001b[37m\u001b[0m \u001b[1m3s\u001b[0m 5ms/step - loss: 0.6115 - val_loss: 0.1062\n",
      "Epoch 37/50\n",
      "\u001b[1m547/547\u001b[0m \u001b[32m━━━━━━━━━━━━━━━━━━━━\u001b[0m\u001b[37m\u001b[0m \u001b[1m3s\u001b[0m 5ms/step - loss: 0.6013 - val_loss: 0.1485\n",
      "Epoch 38/50\n",
      "\u001b[1m547/547\u001b[0m \u001b[32m━━━━━━━━━━━━━━━━━━━━\u001b[0m\u001b[37m\u001b[0m \u001b[1m3s\u001b[0m 5ms/step - loss: 0.6001 - val_loss: 0.1495\n",
      "Epoch 39/50\n",
      "\u001b[1m547/547\u001b[0m \u001b[32m━━━━━━━━━━━━━━━━━━━━\u001b[0m\u001b[37m\u001b[0m \u001b[1m3s\u001b[0m 5ms/step - loss: 0.5839 - val_loss: 0.1843\n",
      "Epoch 40/50\n",
      "\u001b[1m547/547\u001b[0m \u001b[32m━━━━━━━━━━━━━━━━━━━━\u001b[0m\u001b[37m\u001b[0m \u001b[1m3s\u001b[0m 5ms/step - loss: 0.5865 - val_loss: 0.1132\n",
      "Epoch 41/50\n",
      "\u001b[1m547/547\u001b[0m \u001b[32m━━━━━━━━━━━━━━━━━━━━\u001b[0m\u001b[37m\u001b[0m \u001b[1m3s\u001b[0m 5ms/step - loss: 0.5705 - val_loss: 0.1129\n",
      "Epoch 42/50\n",
      "\u001b[1m547/547\u001b[0m \u001b[32m━━━━━━━━━━━━━━━━━━━━\u001b[0m\u001b[37m\u001b[0m \u001b[1m3s\u001b[0m 5ms/step - loss: 0.5712 - val_loss: 0.1423\n",
      "Epoch 43/50\n",
      "\u001b[1m547/547\u001b[0m \u001b[32m━━━━━━━━━━━━━━━━━━━━\u001b[0m\u001b[37m\u001b[0m \u001b[1m3s\u001b[0m 5ms/step - loss: 0.5653 - val_loss: 0.1291\n",
      "Epoch 44/50\n",
      "\u001b[1m547/547\u001b[0m \u001b[32m━━━━━━━━━━━━━━━━━━━━\u001b[0m\u001b[37m\u001b[0m \u001b[1m3s\u001b[0m 5ms/step - loss: 0.5487 - val_loss: 0.1468\n",
      "Epoch 45/50\n",
      "\u001b[1m547/547\u001b[0m \u001b[32m━━━━━━━━━━━━━━━━━━━━\u001b[0m\u001b[37m\u001b[0m \u001b[1m6s\u001b[0m 11ms/step - loss: 0.5365 - val_loss: 0.1291\n",
      "Epoch 46/50\n",
      "\u001b[1m547/547\u001b[0m \u001b[32m━━━━━━━━━━━━━━━━━━━━\u001b[0m\u001b[37m\u001b[0m \u001b[1m3s\u001b[0m 5ms/step - loss: 0.5299 - val_loss: 0.0975\n",
      "Epoch 47/50\n",
      "\u001b[1m547/547\u001b[0m \u001b[32m━━━━━━━━━━━━━━━━━━━━\u001b[0m\u001b[37m\u001b[0m \u001b[1m3s\u001b[0m 5ms/step - loss: 0.5261 - val_loss: 0.1316\n",
      "Epoch 48/50\n",
      "\u001b[1m547/547\u001b[0m \u001b[32m━━━━━━━━━━━━━━━━━━━━\u001b[0m\u001b[37m\u001b[0m \u001b[1m3s\u001b[0m 5ms/step - loss: 0.5192 - val_loss: 0.1213\n",
      "Epoch 49/50\n",
      "\u001b[1m547/547\u001b[0m \u001b[32m━━━━━━━━━━━━━━━━━━━━\u001b[0m\u001b[37m\u001b[0m \u001b[1m3s\u001b[0m 5ms/step - loss: 0.5109 - val_loss: 0.1510\n",
      "Epoch 50/50\n",
      "\u001b[1m547/547\u001b[0m \u001b[32m━━━━━━━━━━━━━━━━━━━━\u001b[0m\u001b[37m\u001b[0m \u001b[1m3s\u001b[0m 5ms/step - loss: 0.5059 - val_loss: 0.1321\n"
     ]
    },
    {
     "data": {
      "text/plain": [
       "<keras.src.callbacks.history.History at 0x7f9d805c8bf0>"
      ]
     },
     "execution_count": 101,
     "metadata": {},
     "output_type": "execute_result"
    }
   ],
   "source": [
    "model.fit(train_generator,epochs=50,validation_data=test_generator)"
   ]
  },
  {
   "cell_type": "code",
   "execution_count": 102,
   "id": "17d3c778-c150-44ea-95b6-e2f93b120e31",
   "metadata": {},
   "outputs": [
    {
     "name": "stdout",
     "output_type": "stream",
     "text": [
      "\u001b[1m137/137\u001b[0m \u001b[32m━━━━━━━━━━━━━━━━━━━━\u001b[0m\u001b[37m\u001b[0m \u001b[1m1s\u001b[0m 5ms/step\n"
     ]
    }
   ],
   "source": [
    "gen_pred=model.predict(test_generator)"
   ]
  },
  {
   "cell_type": "code",
   "execution_count": 105,
   "id": "df738585-3738-4015-9504-9007033f44a8",
   "metadata": {},
   "outputs": [
    {
     "data": {
      "text/plain": [
       "(1000.0, 2000.0)"
      ]
     },
     "execution_count": 105,
     "metadata": {},
     "output_type": "execute_result"
    },
    {
     "data": {
      "image/png": "[encoded data removed]",
      "text/plain": [
       "<Figure size 640x480 with 1 Axes>"
      ]
     },
     "metadata": {},
     "output_type": "display_data"
    }
   ],
   "source": [
    "plt.plot(y.to_numpy()[train_pos-win_length:-2])\n",
    "plt.plot(gen_pred)\n",
    "plt.xlim([1000,2000])"
   ]
  },
  {
   "cell_type": "code",
   "execution_count": null,
   "id": "b72c6990-2c6c-413e-8caa-628e8b213bd4",
   "metadata": {},
   "outputs": [],
   "source": []
  }
 ],
 "metadata": {
  "kernelspec": {
   "display_name": "Python 3 (ipykernel)",
   "language": "python",
   "name": "python3"
  },
  "language_info": {
   "codemirror_mode": {
    "name": "ipython",
    "version": 3
   },
   "file_extension": ".py",
   "mimetype": "text/x-python",
   "name": "python",
   "nbconvert_exporter": "python",
   "pygments_lexer": "ipython3",
   "version": "3.12.4"
  }
 },
 "nbformat": 4,
 "nbformat_minor": 5
}
